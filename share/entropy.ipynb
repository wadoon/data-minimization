{
 "cells": [
  {
   "cell_type": "code",
   "execution_count": 2,
   "metadata": {
    "pycharm": {
     "name": "#%%\n"
    }
   },
   "outputs": [],
   "source": [
    "import math\n",
    "from math import log2\n",
    "import numpy as np\n",
    "from scipy.stats import norm\n",
    "from collections import Counter\n",
    "from matplotlib import pyplot as plt"
   ]
  },
  {
   "cell_type": "code",
   "execution_count": 3,
   "metadata": {
    "pycharm": {
     "name": "#%%\n"
    }
   },
   "outputs": [],
   "source": [
    "def evalDate(data, facts):\n",
    "    i = 0\n",
    "    for f in facts:\n",
    "        i = (i << 1) | int(f(*data))\n",
    "    return i\n",
    "\n",
    "\n",
    "def evalData(data, facts):\n",
    "    D = np.zeros((len(data), 1))\n",
    "    for i, d in enumerate(data):\n",
    "        D[i] = evalDate(d, facts)\n",
    "    return D\n",
    "\n",
    "\n",
    "def cartesian_product(*arrays):\n",
    "    la = len(arrays)\n",
    "    dtype = np.result_type(*arrays)\n",
    "    arr = np.empty([len(a) for a in arrays] + [la], dtype=dtype)\n",
    "    for i, a in enumerate(np.ix_(*arrays)):\n",
    "        arr[..., i] = a\n",
    "    return arr.reshape(-1, la)\n",
    "\n",
    "\n",
    "def to_int(*args):\n",
    "    i = 0\n",
    "    for a in args:\n",
    "        i = (i << 1) | int(a)\n",
    "    return i"
   ]
  },
  {
   "cell_type": "code",
   "execution_count": 226,
   "metadata": {
    "pycharm": {
     "name": "#%%\n"
    }
   },
   "outputs": [],
   "source": [
    "X_AGE = np.array(range(0, 51), dtype=int)\n",
    "X_INCOME = np.array(range(0, 3001), dtype=int)"
   ]
  },
  {
   "cell_type": "code",
   "execution_count": 227,
   "metadata": {
    "pycharm": {
     "name": "#%%\n"
    }
   },
   "outputs": [],
   "source": [
    "DATA = cartesian_product(X_AGE, X_INCOME)"
   ]
  },
  {
   "cell_type": "code",
   "execution_count": 228,
   "metadata": {
    "pycharm": {
     "name": "#%%\n"
    }
   },
   "outputs": [],
   "source": [
    "PROB = np.zeros((len(DATA), 1))"
   ]
  },
  {
   "cell_type": "code",
   "execution_count": 229,
   "metadata": {
    "pycharm": {
     "name": "#%%\n"
    }
   },
   "outputs": [],
   "source": [
    "FACTS1 = lambda age, income: to_int(age > 18, income >= 2000)\n",
    "FACTS2 = lambda age, income: to_int(age > 25, income >= 1000, income <= 2000)"
   ]
  },
  {
   "cell_type": "code",
   "execution_count": 260,
   "metadata": {
    "pycharm": {
     "name": "#%%\n"
    }
   },
   "outputs": [],
   "source": [
    "from scipy.stats import *\n",
    "\n",
    "\n",
    "def dist(end, mu, std):\n",
    "    p = np.zeros((end,))\n",
    "    for i in range(end):\n",
    "        p[i] = norm.pdf(i, mu, std)\n",
    "    n = sum(p)\n",
    "    return p / n\n",
    "\n",
    "\n",
    "XXX = dist(51, 20, 10)\n",
    "YYY = dist(3001, 1500, 1000)\n",
    "prob_age = lambda x: XXX[x, 0]  # binom.pmf(x, 200, 0.1)\n",
    "prob_income = lambda x: YYY[y, 0]  # randint.pmf(x, 500, 2500)"
   ]
  },
  {
   "cell_type": "code",
   "execution_count": 261,
   "metadata": {
    "pycharm": {
     "name": "#%%\n"
    }
   },
   "outputs": [
    {
     "data": {
      "text/plain": "<Figure size 432x288 with 1 Axes>",
      "image/png": "[encoded data removed]"
     },
     "metadata": {
      "needs_background": "light"
     },
     "output_type": "display_data"
    }
   ],
   "source": [
    "fig, ax1 = plt.subplots(1, 1)\n",
    "Y_AGE = XXX\n",
    "ax1.bar(X_AGE, Y_AGE)\n",
    "fig.savefig('age_distribution.svg')"
   ]
  },
  {
   "cell_type": "code",
   "execution_count": 262,
   "outputs": [
    {
     "data": {
      "text/plain": "<Figure size 432x288 with 1 Axes>",
      "image/png": "[encoded data removed]"
     },
     "metadata": {
      "needs_background": "light"
     },
     "output_type": "display_data"
    }
   ],
   "source": [
    "fig, ax2 = plt.subplots(1, 1)\n",
    "ax2.bar(X_INCOME, YYY)\n",
    "plt.savefig('income_distribution.svg')"
   ],
   "metadata": {
    "collapsed": false,
    "pycharm": {
     "name": "#%%\n"
    }
   }
  },
  {
   "cell_type": "code",
   "execution_count": 263,
   "metadata": {
    "pycharm": {
     "name": "#%%\n"
    }
   },
   "outputs": [],
   "source": [
    "with open(\"age.data\", 'w') as fh:\n",
    "    for v in enumerate(XXX): fh.write(f\"{v}\\n\")\n",
    "with open(\"income.data\", 'w') as fh:\n",
    "    for v in enumerate(YYY): fh.write(f\"{v}\\n\")"
   ]
  },
  {
   "cell_type": "code",
   "execution_count": 264,
   "outputs": [],
   "source": [
    "def tax_rate(age, income):\n",
    "    if age < 18: return 0\n",
    "    if age < 25 and not (income > 1000):\n",
    "        return 0.1\n",
    "    if income <= 1000:\n",
    "        return 0.2\n",
    "    return 0.3"
   ],
   "metadata": {
    "collapsed": false,
    "pycharm": {
     "name": "#%%\n"
    }
   }
  },
  {
   "cell_type": "code",
   "execution_count": 266,
   "metadata": {
    "pycharm": {
     "name": "#%%\n"
    }
   },
   "outputs": [
    {
     "name": "stdout",
     "output_type": "stream",
     "text": [
      "1.6561463037445862e-05\n"
     ]
    }
   ],
   "source": [
    "def joint_prob(age, income): return XXX[age] * YYY[income]\n",
    "\n",
    "\n",
    "print(joint_prob(25, 1500))\n",
    "\n",
    "O1 = np.zeros((len(DATA), 1))\n",
    "O2 = np.zeros((len(DATA), 1))\n",
    "R = np.zeros((len(DATA), 1))"
   ]
  },
  {
   "cell_type": "code",
   "execution_count": 267,
   "outputs": [],
   "source": [
    "for idx, d in enumerate(DATA):\n",
    "    p = joint_prob(*d)\n",
    "    PROB[idx] = p\n",
    "    O1[idx] = FACTS1(*d)\n",
    "    O2[idx] = FACTS2(*d)\n",
    "    R[idx] = tax_rate(*d)"
   ],
   "metadata": {
    "collapsed": false,
    "pycharm": {
     "name": "#%%\n"
    }
   }
  },
  {
   "cell_type": "code",
   "execution_count": 238,
   "outputs": [
    {
     "data": {
      "text/plain": "<Figure size 432x288 with 1 Axes>",
      "image/png": "[encoded data removed]"
     },
     "metadata": {
      "needs_background": "light"
     },
     "output_type": "display_data"
    }
   ],
   "source": [
    "x = DATA[:, 0]\n",
    "y = DATA[:, 1]\n",
    "\n",
    "plt.figure()\n",
    "plt.set_cmap('Set3')\n",
    "plt.scatter(x, y, c=R * 3)\n",
    "fig.savefig(\"R.png\")"
   ],
   "metadata": {
    "collapsed": false,
    "pycharm": {
     "name": "#%%\n"
    }
   }
  },
  {
   "cell_type": "code",
   "execution_count": null,
   "outputs": [],
   "source": [
    "plt.figure()\n",
    "ax1.scatter(x, y, c=(O1 == 3))\n",
    "fig.savefig(\"f1.png\")"
   ],
   "metadata": {
    "collapsed": false,
    "pycharm": {
     "name": "#%%\n"
    }
   }
  },
  {
   "cell_type": "code",
   "execution_count": null,
   "outputs": [],
   "source": [
    "\n",
    "plt.figure()\n",
    "ax2.scatter(x, y, c=(O2 == 7))\n",
    "fig.savefig(\"f2.png\")\n"
   ],
   "metadata": {
    "collapsed": false,
    "pycharm": {
     "name": "#%%\n"
    }
   }
  },
  {
   "cell_type": "code",
   "execution_count": 157,
   "outputs": [],
   "source": [
    "def models(out, true):\n",
    "    c = Counter(out[:, 0])\n",
    "    return c[true]"
   ],
   "metadata": {
    "collapsed": false,
    "pycharm": {
     "name": "#%%\n"
    }
   }
  },
  {
   "cell_type": "code",
   "execution_count": 158,
   "outputs": [
    {
     "data": {
      "text/plain": "31000"
     },
     "execution_count": 158,
     "metadata": {},
     "output_type": "execute_result"
    }
   ],
   "source": [
    "models(O1, 3)"
   ],
   "metadata": {
    "collapsed": false,
    "pycharm": {
     "name": "#%%\n"
    }
   }
  },
  {
   "cell_type": "code",
   "execution_count": 160,
   "outputs": [
    {
     "data": {
      "text/plain": "24024"
     },
     "execution_count": 160,
     "metadata": {},
     "output_type": "execute_result"
    }
   ],
   "source": [
    "models(O2, 7)"
   ],
   "metadata": {
    "collapsed": false,
    "pycharm": {
     "name": "#%%\n"
    }
   }
  },
  {
   "cell_type": "code",
   "execution_count": 164,
   "outputs": [
    {
     "data": {
      "text/plain": "dict_items([(0.0, 54000), (0.1, 7007), (0.3, 63968), (0.2, 25025)])"
     },
     "execution_count": 164,
     "metadata": {},
     "output_type": "execute_result"
    }
   ],
   "source": [
    "Counter(R[:, 0]).items()"
   ],
   "metadata": {
    "collapsed": false,
    "pycharm": {
     "name": "#%%\n"
    }
   }
  },
  {
   "cell_type": "code",
   "execution_count": 301,
   "outputs": [],
   "source": [
    "def min_entropy(data):\n",
    "    c = Counter(data[:, 0])\n",
    "    M = dict()\n",
    "    for out in c.keys():\n",
    "        current_max = 0;\n",
    "        norm = 0\n",
    "        for idx in range(len(PROB)):\n",
    "            if data[idx, 0] == out:\n",
    "                current_max = max(PROB[idx, 0], current_max)\n",
    "                norm += PROB[idx, 0]\n",
    "        M[out] = current_max / norm\n",
    "    B = sum(M.values())\n",
    "    A = max(PROB)\n",
    "    return -A - (- B)"
   ],
   "metadata": {
    "collapsed": false,
    "pycharm": {
     "name": "#%%\n"
    }
   }
  },
  {
   "cell_type": "code",
   "execution_count": 302,
   "outputs": [],
   "source": [
    "A = min_entropy(O1)\n",
    "B = min_entropy(O2)\n",
    "C = min_entropy(R)"
   ],
   "metadata": {
    "collapsed": false,
    "pycharm": {
     "name": "#%%\n"
    }
   }
  },
  {
   "cell_type": "code",
   "execution_count": 304,
   "outputs": [
    {
     "data": {
      "text/plain": "array([ True])"
     },
     "execution_count": 304,
     "metadata": {},
     "output_type": "execute_result"
    }
   ],
   "source": [
    "A < B"
   ],
   "metadata": {
    "collapsed": false,
    "pycharm": {
     "name": "#%%\n"
    }
   }
  },
  {
   "cell_type": "code",
   "execution_count": 295,
   "outputs": [],
   "source": [
    "def V(Px): return max(Px)\n",
    "def Hinfty(Px): log2(1 / V(Px))\n",
    "def Hinfty_cond(PXY, PY): return log2(1 / Vcond(PXY,PY))\n",
    "\n",
    "def V_cond_y(PXY, idx):\n",
    "    return max(PXY[:, idx])\n",
    "\n",
    "def Vcond(PXY, PY):\n",
    "    s = 0\n",
    "    for idxY, Py in enumerate(PY):\n",
    "        s += Py * V_cond_y(PXY, y)\n",
    "    return s\n",
    "\n",
    "def Leakage(PX, PY, PXY): return Hinfty(PX) - Hinfty_cond(PXY,PY)"
   ],
   "metadata": {
    "collapsed": false,
    "pycharm": {
     "name": "#%%\n"
    }
   }
  },
  {
   "cell_type": "code",
   "execution_count": 298,
   "outputs": [
    {
     "data": {
      "text/plain": "{0.0: 0.3094582646646882,\n 1.0: 0.11989542857703349,\n 2.0: 0.4112954391830746,\n 3.0: 0.1593508675752021}"
     },
     "execution_count": 298,
     "metadata": {},
     "output_type": "execute_result"
    }
   ],
   "source": [
    "PY = dict()\n",
    "PXY = np.zeros((3001*51, 4 ))\n",
    "for idx, out in enumerate(O1):\n",
    "    p = PROB[idx,0]\n",
    "    y = PY.get(out[0], 0)\n",
    "    v = p+y\n",
    "    PY[out[0]] = v\n",
    "    PXY[idx,int(out)] = 1\n",
    "PY\n",
    "#Leakage(PROB, PY, PXY)"
   ],
   "metadata": {
    "collapsed": false,
    "pycharm": {
     "name": "#%%\n"
    }
   }
  }
 ],
 "metadata": {
  "kernelspec": {
   "display_name": "Python 3 (ipykernel)",
   "language": "python",
   "name": "python3"
  },
  "language_info": {
   "codemirror_mode": {
    "name": "ipython",
    "version": 3
   },
   "file_extension": ".py",
   "mimetype": "text/x-python",
   "name": "python",
   "nbconvert_exporter": "python",
   "pygments_lexer": "ipython3",
   "version": "3.10.4"
  }
 },
 "nbformat": 4,
 "nbformat_minor": 1
}